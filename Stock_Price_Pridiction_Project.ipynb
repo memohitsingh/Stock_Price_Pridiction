{
 "cells": [
  {
   "cell_type": "markdown",
   "id": "914c07b2",
   "metadata": {},
   "source": [
    "# Imported relevant libraries"
   ]
  },
  {
   "cell_type": "code",
   "execution_count": 1,
   "id": "792d731f",
   "metadata": {},
   "outputs": [],
   "source": [
    "import numpy as np\n",
    "import matplotlib.pyplot as plt\n",
    "import pandas as pd\n",
    "from sklearn import preprocessing\n",
    "from sklearn import metrics\n",
    "from sklearn.model_selection import train_test_split\n",
    "from sklearn.linear_model import LinearRegression"
   ]
  },
  {
   "cell_type": "markdown",
   "id": "a400abed",
   "metadata": {},
   "source": [
    "# Load the data"
   ]
  },
  {
   "cell_type": "code",
   "execution_count": 2,
   "id": "4ef44c5f",
   "metadata": {},
   "outputs": [
    {
     "data": {
      "text/html": [
       "<div>\n",
       "<style scoped>\n",
       "    .dataframe tbody tr th:only-of-type {\n",
       "        vertical-align: middle;\n",
       "    }\n",
       "\n",
       "    .dataframe tbody tr th {\n",
       "        vertical-align: top;\n",
       "    }\n",
       "\n",
       "    .dataframe thead th {\n",
       "        text-align: right;\n",
       "    }\n",
       "</style>\n",
       "<table border=\"1\" class=\"dataframe\">\n",
       "  <thead>\n",
       "    <tr style=\"text-align: right;\">\n",
       "      <th></th>\n",
       "      <th>Date</th>\n",
       "      <th>Open</th>\n",
       "      <th>High</th>\n",
       "      <th>Low</th>\n",
       "      <th>Close</th>\n",
       "      <th>Adj Close</th>\n",
       "      <th>Volume</th>\n",
       "    </tr>\n",
       "  </thead>\n",
       "  <tbody>\n",
       "    <tr>\n",
       "      <th>0</th>\n",
       "      <td>2018-02-05</td>\n",
       "      <td>262.000000</td>\n",
       "      <td>267.899994</td>\n",
       "      <td>250.029999</td>\n",
       "      <td>254.259995</td>\n",
       "      <td>254.259995</td>\n",
       "      <td>11896100</td>\n",
       "    </tr>\n",
       "    <tr>\n",
       "      <th>1</th>\n",
       "      <td>2018-02-06</td>\n",
       "      <td>247.699997</td>\n",
       "      <td>266.700012</td>\n",
       "      <td>245.000000</td>\n",
       "      <td>265.720001</td>\n",
       "      <td>265.720001</td>\n",
       "      <td>12595800</td>\n",
       "    </tr>\n",
       "    <tr>\n",
       "      <th>2</th>\n",
       "      <td>2018-02-07</td>\n",
       "      <td>266.579987</td>\n",
       "      <td>272.450012</td>\n",
       "      <td>264.329987</td>\n",
       "      <td>264.559998</td>\n",
       "      <td>264.559998</td>\n",
       "      <td>8981500</td>\n",
       "    </tr>\n",
       "    <tr>\n",
       "      <th>3</th>\n",
       "      <td>2018-02-08</td>\n",
       "      <td>267.079987</td>\n",
       "      <td>267.619995</td>\n",
       "      <td>250.000000</td>\n",
       "      <td>250.100006</td>\n",
       "      <td>250.100006</td>\n",
       "      <td>9306700</td>\n",
       "    </tr>\n",
       "    <tr>\n",
       "      <th>4</th>\n",
       "      <td>2018-02-09</td>\n",
       "      <td>253.850006</td>\n",
       "      <td>255.800003</td>\n",
       "      <td>236.110001</td>\n",
       "      <td>249.470001</td>\n",
       "      <td>249.470001</td>\n",
       "      <td>16906900</td>\n",
       "    </tr>\n",
       "  </tbody>\n",
       "</table>\n",
       "</div>"
      ],
      "text/plain": [
       "         Date        Open        High         Low       Close   Adj Close  \\\n",
       "0  2018-02-05  262.000000  267.899994  250.029999  254.259995  254.259995   \n",
       "1  2018-02-06  247.699997  266.700012  245.000000  265.720001  265.720001   \n",
       "2  2018-02-07  266.579987  272.450012  264.329987  264.559998  264.559998   \n",
       "3  2018-02-08  267.079987  267.619995  250.000000  250.100006  250.100006   \n",
       "4  2018-02-09  253.850006  255.800003  236.110001  249.470001  249.470001   \n",
       "\n",
       "     Volume  \n",
       "0  11896100  \n",
       "1  12595800  \n",
       "2   8981500  \n",
       "3   9306700  \n",
       "4  16906900  "
      ]
     },
     "execution_count": 2,
     "metadata": {},
     "output_type": "execute_result"
    }
   ],
   "source": [
    "data = pd.read_csv(r'C:\\Users\\Admin\\Downloads\\1613615-Stock_Price_data_set.csv')\n",
    "data.head()\n"
   ]
  },
  {
   "cell_type": "code",
   "execution_count": 3,
   "id": "e9e3027f",
   "metadata": {},
   "outputs": [
    {
     "name": "stdout",
     "output_type": "stream",
     "text": [
      "<class 'pandas.core.frame.DataFrame'>\n",
      "RangeIndex: 1009 entries, 0 to 1008\n",
      "Data columns (total 7 columns):\n",
      " #   Column     Non-Null Count  Dtype  \n",
      "---  ------     --------------  -----  \n",
      " 0   Date       1009 non-null   object \n",
      " 1   Open       1009 non-null   float64\n",
      " 2   High       1009 non-null   float64\n",
      " 3   Low        1009 non-null   float64\n",
      " 4   Close      1009 non-null   float64\n",
      " 5   Adj Close  1009 non-null   float64\n",
      " 6   Volume     1009 non-null   int64  \n",
      "dtypes: float64(5), int64(1), object(1)\n",
      "memory usage: 55.3+ KB\n"
     ]
    }
   ],
   "source": [
    "data.info()"
   ]
  },
  {
   "cell_type": "code",
   "execution_count": 4,
   "id": "6ef42c3b",
   "metadata": {},
   "outputs": [
    {
     "data": {
      "text/html": [
       "<div>\n",
       "<style scoped>\n",
       "    .dataframe tbody tr th:only-of-type {\n",
       "        vertical-align: middle;\n",
       "    }\n",
       "\n",
       "    .dataframe tbody tr th {\n",
       "        vertical-align: top;\n",
       "    }\n",
       "\n",
       "    .dataframe thead th {\n",
       "        text-align: right;\n",
       "    }\n",
       "</style>\n",
       "<table border=\"1\" class=\"dataframe\">\n",
       "  <thead>\n",
       "    <tr style=\"text-align: right;\">\n",
       "      <th></th>\n",
       "      <th>Open</th>\n",
       "      <th>High</th>\n",
       "      <th>Low</th>\n",
       "      <th>Close</th>\n",
       "      <th>Adj Close</th>\n",
       "      <th>Volume</th>\n",
       "    </tr>\n",
       "  </thead>\n",
       "  <tbody>\n",
       "    <tr>\n",
       "      <th>count</th>\n",
       "      <td>1009.000000</td>\n",
       "      <td>1009.000000</td>\n",
       "      <td>1009.000000</td>\n",
       "      <td>1009.000000</td>\n",
       "      <td>1009.000000</td>\n",
       "      <td>1.009000e+03</td>\n",
       "    </tr>\n",
       "    <tr>\n",
       "      <th>mean</th>\n",
       "      <td>419.059673</td>\n",
       "      <td>425.320703</td>\n",
       "      <td>412.374044</td>\n",
       "      <td>419.000733</td>\n",
       "      <td>419.000733</td>\n",
       "      <td>7.570685e+06</td>\n",
       "    </tr>\n",
       "    <tr>\n",
       "      <th>std</th>\n",
       "      <td>108.537532</td>\n",
       "      <td>109.262960</td>\n",
       "      <td>107.555867</td>\n",
       "      <td>108.289999</td>\n",
       "      <td>108.289999</td>\n",
       "      <td>5.465535e+06</td>\n",
       "    </tr>\n",
       "    <tr>\n",
       "      <th>min</th>\n",
       "      <td>233.919998</td>\n",
       "      <td>250.649994</td>\n",
       "      <td>231.229996</td>\n",
       "      <td>233.880005</td>\n",
       "      <td>233.880005</td>\n",
       "      <td>1.144000e+06</td>\n",
       "    </tr>\n",
       "    <tr>\n",
       "      <th>25%</th>\n",
       "      <td>331.489990</td>\n",
       "      <td>336.299988</td>\n",
       "      <td>326.000000</td>\n",
       "      <td>331.619995</td>\n",
       "      <td>331.619995</td>\n",
       "      <td>4.091900e+06</td>\n",
       "    </tr>\n",
       "    <tr>\n",
       "      <th>50%</th>\n",
       "      <td>377.769989</td>\n",
       "      <td>383.010010</td>\n",
       "      <td>370.880005</td>\n",
       "      <td>378.670013</td>\n",
       "      <td>378.670013</td>\n",
       "      <td>5.934500e+06</td>\n",
       "    </tr>\n",
       "    <tr>\n",
       "      <th>75%</th>\n",
       "      <td>509.130005</td>\n",
       "      <td>515.630005</td>\n",
       "      <td>502.529999</td>\n",
       "      <td>509.079987</td>\n",
       "      <td>509.079987</td>\n",
       "      <td>9.322400e+06</td>\n",
       "    </tr>\n",
       "    <tr>\n",
       "      <th>max</th>\n",
       "      <td>692.349976</td>\n",
       "      <td>700.989990</td>\n",
       "      <td>686.090027</td>\n",
       "      <td>691.690002</td>\n",
       "      <td>691.690002</td>\n",
       "      <td>5.890430e+07</td>\n",
       "    </tr>\n",
       "  </tbody>\n",
       "</table>\n",
       "</div>"
      ],
      "text/plain": [
       "              Open         High          Low        Close    Adj Close  \\\n",
       "count  1009.000000  1009.000000  1009.000000  1009.000000  1009.000000   \n",
       "mean    419.059673   425.320703   412.374044   419.000733   419.000733   \n",
       "std     108.537532   109.262960   107.555867   108.289999   108.289999   \n",
       "min     233.919998   250.649994   231.229996   233.880005   233.880005   \n",
       "25%     331.489990   336.299988   326.000000   331.619995   331.619995   \n",
       "50%     377.769989   383.010010   370.880005   378.670013   378.670013   \n",
       "75%     509.130005   515.630005   502.529999   509.079987   509.079987   \n",
       "max     692.349976   700.989990   686.090027   691.690002   691.690002   \n",
       "\n",
       "             Volume  \n",
       "count  1.009000e+03  \n",
       "mean   7.570685e+06  \n",
       "std    5.465535e+06  \n",
       "min    1.144000e+06  \n",
       "25%    4.091900e+06  \n",
       "50%    5.934500e+06  \n",
       "75%    9.322400e+06  \n",
       "max    5.890430e+07  "
      ]
     },
     "execution_count": 4,
     "metadata": {},
     "output_type": "execute_result"
    }
   ],
   "source": [
    "data.describe()"
   ]
  },
  {
   "cell_type": "markdown",
   "id": "ec117367",
   "metadata": {},
   "source": [
    "# Splitting Data In X and Y"
   ]
  },
  {
   "cell_type": "code",
   "execution_count": 5,
   "id": "01202fa7",
   "metadata": {},
   "outputs": [
    {
     "name": "stdout",
     "output_type": "stream",
     "text": [
      "[[2.67899994e+02 2.50029999e+02 2.62000000e+02 1.18961000e+07]\n",
      " [2.66700012e+02 2.45000000e+02 2.47699997e+02 1.25958000e+07]\n",
      " [2.72450012e+02 2.64329987e+02 2.66579987e+02 8.98150000e+06]\n",
      " ...\n",
      " [4.51980011e+02 4.26480011e+02 4.48250000e+02 1.43460000e+07]\n",
      " [4.29260010e+02 4.04279999e+02 4.21440002e+02 9.90520000e+06]\n",
      " [4.12769989e+02 3.96640015e+02 4.07309998e+02 7.78240000e+06]]\n"
     ]
    }
   ],
   "source": [
    "X = data[['High','Low','Open','Volume']].values\n",
    "y = data['Close'].values\n",
    "print(X)"
   ]
  },
  {
   "cell_type": "code",
   "execution_count": 6,
   "id": "d250d5f9",
   "metadata": {},
   "outputs": [
    {
     "name": "stdout",
     "output_type": "stream",
     "text": [
      "[254.259995 265.720001 264.559998 ... 429.480011 405.600006 410.170013]\n"
     ]
    }
   ],
   "source": [
    "print(y)"
   ]
  },
  {
   "cell_type": "markdown",
   "id": "02c26c65",
   "metadata": {},
   "source": [
    "# Test-Train Split"
   ]
  },
  {
   "cell_type": "code",
   "execution_count": 7,
   "id": "4437aa2e",
   "metadata": {},
   "outputs": [],
   "source": [
    "# Split data into testing and training sets\n",
    "X_train, X_test, y_train, y_test = train_test_split(X,y, test_size=0.3, random_state=1)"
   ]
  },
  {
   "cell_type": "markdown",
   "id": "3591af64",
   "metadata": {},
   "source": [
    "# Training the Model"
   ]
  },
  {
   "cell_type": "code",
   "execution_count": 8,
   "id": "c390ac5f",
   "metadata": {},
   "outputs": [
    {
     "name": "stdout",
     "output_type": "stream",
     "text": [
      "[ 8.09050090e-01  8.03609794e-01 -6.12467932e-01  5.27671227e-08]\n",
      "[585.74315845 634.37795705 366.23226755 432.27317144 415.40265836\n",
      " 343.81874371 500.73537239 531.52422436 347.77672976 333.82191665\n",
      " 481.65040198 364.31116915 656.69480161 349.49953209 357.5698232\n",
      " 325.23000872 396.15580993 258.74883705 266.63934811 541.92822185\n",
      " 598.08062476 340.44017178 271.2818086  319.46950443 295.70492752\n",
      " 363.11647787 417.95293966 541.46669152 502.33996285 501.91392015\n",
      " 605.32838561 525.08016165 531.8504915  372.75009069 356.21169405\n",
      " 273.61281187 351.74838207 537.99766612 357.56285555 668.32728368\n",
      " 423.11774493 364.10260689 392.79556278 394.3387985  414.93092098\n",
      " 503.64191404 447.4539796  295.18010552 378.28879719 551.74595269\n",
      " 283.89604157 313.37481342 330.76203862 302.83221426 350.53688764\n",
      " 298.11553671 514.94682489 485.11627912 610.40186174 488.4532709\n",
      " 379.79837888 487.12901993 306.91184431 501.37838764 473.4151176\n",
      " 524.10227463 679.93834712 492.53622162 534.52591211 288.08602016\n",
      " 284.11356402 342.03476731 338.12472749 453.82132429 326.16875905\n",
      " 330.47414839 420.82491941 370.5981433  292.58022808 311.94384677\n",
      " 624.12444124 545.93536739 584.31809417 242.6582793  285.26005039\n",
      " 325.79225514 356.82712809 488.21254473 602.93263318 365.72449025\n",
      " 473.66955875 663.10087294 548.55368838 331.35858711 558.70733301\n",
      " 516.40606559 485.16139797 541.83869972 425.1017938  366.63212391\n",
      " 416.89757653 282.7167553  287.12113376 328.27344035 496.27895441\n",
      " 282.18239927 490.27139639 319.92184792 490.48772879 514.09695471\n",
      " 628.85106245 367.84249433 362.0081227  310.10890447 517.07194386\n",
      " 309.60971999 313.93235236 514.69968763 355.0949253  316.0465937\n",
      " 667.21543262 553.07829561 254.12937822 294.91455095 265.14374707\n",
      " 345.60717881 484.01878737 306.02387892 521.37576047 519.62074066\n",
      " 420.01312864 372.65528566 486.0666553  269.84189591 512.87107685\n",
      " 448.7125833  525.74073894 362.11946423 502.12268918 663.18615259\n",
      " 329.84506374 357.90782585 298.44367256 329.39788406 397.79742805\n",
      " 255.58265125 290.75599763 639.39131748 545.96885047 273.06879976\n",
      " 492.35738755 364.96127987 276.98747499 368.07515478 312.15631083\n",
      " 356.3941831  559.95449764 356.41108379 486.39008259 366.01445627\n",
      " 484.55638798 366.93952925 510.9982287  340.71897354 611.18438484\n",
      " 651.57524026 514.95030211 300.54058299 334.01788047 553.64447173\n",
      " 662.49107162 346.47042613 358.21047592 353.86621182 311.80609121\n",
      " 434.53250251 265.21983616 655.25270086 266.04284931 537.08890787\n",
      " 274.63753806 559.86618941 334.61249995 363.68666954 669.72899938\n",
      " 358.47067003 460.08645735 269.19930656 498.75704974 302.68699616\n",
      " 292.62459276 509.64444997 508.89804622 331.55077503 548.60241502\n",
      " 348.30204405 434.74358801 519.46500999 525.52747603 596.11440435\n",
      " 482.08888028 438.323512   617.74783515 593.33248536 310.6634576\n",
      " 351.03293111 489.35327186 310.86205997 503.16936036 495.24818288\n",
      " 338.79247134 528.40516676 365.55365077 527.39452912 468.39723197\n",
      " 500.88623162 540.92549156 295.21328846 363.72751257 495.73574104\n",
      " 315.21104408 507.63924892 495.44571819 382.82018909 582.71581535\n",
      " 291.00947382 543.7515853  416.04787763 554.0476274  516.81055416\n",
      " 486.25381622 512.85201444 397.4559441  319.45071119 323.89694816\n",
      " 665.24830905 523.42925097 581.19044213 609.69211268 422.17236529\n",
      " 364.23885638 332.68713554 277.1230357  540.90251442 360.34200981\n",
      " 602.04104435 523.33872717 389.56875389 433.67087566 565.24688335\n",
      " 484.98408158 318.89086958 449.38343269 357.25795776 367.44825773\n",
      " 687.12470047 352.61631642 334.27454487 596.39971994 383.50732442\n",
      " 588.63115879 465.56808472 338.4451547  507.28792407 307.61973639\n",
      " 293.63550605 489.41143846 330.42426625 305.65043081 365.85781595\n",
      " 663.18011106 323.68468556 415.07997149 328.32674315 329.24814603\n",
      " 494.11137191 324.03716556 275.980747   306.98278309 443.52856568\n",
      " 542.92859249 533.63103436 374.16230864 296.79915504 522.59074723\n",
      " 333.9815214  267.73628597 307.28264749 362.37380827 309.87125339\n",
      " 399.21016414 323.52962819 543.71901302 353.13330917 284.3913812\n",
      " 353.92635974 431.3909319  536.25655652 685.36796673 379.81198701\n",
      " 307.25680386 378.67761824 355.4162303 ]\n"
     ]
    }
   ],
   "source": [
    "#from sklearn.linear_model import LinearRegression\n",
    "# Create Regression Model \n",
    "Model = LinearRegression()\n",
    "\n",
    "# Train the model\n",
    "Model.fit(X_train, y_train)\n",
    "#Printing Coefficient\n",
    "print(Model.coef_)\n",
    "\n",
    "# Use model to make predictions\n",
    "predicted = Model.predict(X_test) \n",
    "print(predicted)"
   ]
  },
  {
   "cell_type": "markdown",
   "id": "aa983b5f",
   "metadata": {},
   "source": [
    "# Combining The Actual and Predicted data to match"
   ]
  },
  {
   "cell_type": "code",
   "execution_count": 9,
   "id": "0f1ad480",
   "metadata": {},
   "outputs": [
    {
     "data": {
      "text/html": [
       "<div>\n",
       "<style scoped>\n",
       "    .dataframe tbody tr th:only-of-type {\n",
       "        vertical-align: middle;\n",
       "    }\n",
       "\n",
       "    .dataframe tbody tr th {\n",
       "        vertical-align: top;\n",
       "    }\n",
       "\n",
       "    .dataframe thead th {\n",
       "        text-align: right;\n",
       "    }\n",
       "</style>\n",
       "<table border=\"1\" class=\"dataframe\">\n",
       "  <thead>\n",
       "    <tr style=\"text-align: right;\">\n",
       "      <th></th>\n",
       "      <th>Actual</th>\n",
       "      <th>Predicted</th>\n",
       "    </tr>\n",
       "  </thead>\n",
       "  <tbody>\n",
       "    <tr>\n",
       "      <th>0</th>\n",
       "      <td>591.150024</td>\n",
       "      <td>585.743158</td>\n",
       "    </tr>\n",
       "    <tr>\n",
       "      <th>1</th>\n",
       "      <td>634.809998</td>\n",
       "      <td>634.377957</td>\n",
       "    </tr>\n",
       "    <tr>\n",
       "      <th>2</th>\n",
       "      <td>365.489990</td>\n",
       "      <td>366.232268</td>\n",
       "    </tr>\n",
       "    <tr>\n",
       "      <th>3</th>\n",
       "      <td>433.829987</td>\n",
       "      <td>432.273171</td>\n",
       "    </tr>\n",
       "    <tr>\n",
       "      <th>4</th>\n",
       "      <td>419.730011</td>\n",
       "      <td>415.402658</td>\n",
       "    </tr>\n",
       "    <tr>\n",
       "      <th>5</th>\n",
       "      <td>339.500000</td>\n",
       "      <td>343.818744</td>\n",
       "    </tr>\n",
       "    <tr>\n",
       "      <th>6</th>\n",
       "      <td>501.089996</td>\n",
       "      <td>500.735372</td>\n",
       "    </tr>\n",
       "    <tr>\n",
       "      <th>7</th>\n",
       "      <td>534.659973</td>\n",
       "      <td>531.524224</td>\n",
       "    </tr>\n",
       "    <tr>\n",
       "      <th>8</th>\n",
       "      <td>349.190002</td>\n",
       "      <td>347.776730</td>\n",
       "    </tr>\n",
       "    <tr>\n",
       "      <th>9</th>\n",
       "      <td>336.059998</td>\n",
       "      <td>333.821917</td>\n",
       "    </tr>\n",
       "    <tr>\n",
       "      <th>10</th>\n",
       "      <td>485.000000</td>\n",
       "      <td>481.650402</td>\n",
       "    </tr>\n",
       "    <tr>\n",
       "      <th>11</th>\n",
       "      <td>368.489990</td>\n",
       "      <td>364.311169</td>\n",
       "    </tr>\n",
       "    <tr>\n",
       "      <th>12</th>\n",
       "      <td>655.989990</td>\n",
       "      <td>656.694802</td>\n",
       "    </tr>\n",
       "    <tr>\n",
       "      <th>13</th>\n",
       "      <td>351.339996</td>\n",
       "      <td>349.499532</td>\n",
       "    </tr>\n",
       "    <tr>\n",
       "      <th>14</th>\n",
       "      <td>360.269989</td>\n",
       "      <td>357.569823</td>\n",
       "    </tr>\n",
       "    <tr>\n",
       "      <th>15</th>\n",
       "      <td>326.399994</td>\n",
       "      <td>325.230009</td>\n",
       "    </tr>\n",
       "    <tr>\n",
       "      <th>16</th>\n",
       "      <td>398.390015</td>\n",
       "      <td>396.155810</td>\n",
       "    </tr>\n",
       "    <tr>\n",
       "      <th>17</th>\n",
       "      <td>258.269989</td>\n",
       "      <td>258.748837</td>\n",
       "    </tr>\n",
       "    <tr>\n",
       "      <th>18</th>\n",
       "      <td>267.529999</td>\n",
       "      <td>266.639348</td>\n",
       "    </tr>\n",
       "    <tr>\n",
       "      <th>19</th>\n",
       "      <td>541.940002</td>\n",
       "      <td>541.928222</td>\n",
       "    </tr>\n",
       "  </tbody>\n",
       "</table>\n",
       "</div>"
      ],
      "text/plain": [
       "        Actual   Predicted\n",
       "0   591.150024  585.743158\n",
       "1   634.809998  634.377957\n",
       "2   365.489990  366.232268\n",
       "3   433.829987  432.273171\n",
       "4   419.730011  415.402658\n",
       "5   339.500000  343.818744\n",
       "6   501.089996  500.735372\n",
       "7   534.659973  531.524224\n",
       "8   349.190002  347.776730\n",
       "9   336.059998  333.821917\n",
       "10  485.000000  481.650402\n",
       "11  368.489990  364.311169\n",
       "12  655.989990  656.694802\n",
       "13  351.339996  349.499532\n",
       "14  360.269989  357.569823\n",
       "15  326.399994  325.230009\n",
       "16  398.390015  396.155810\n",
       "17  258.269989  258.748837\n",
       "18  267.529999  266.639348\n",
       "19  541.940002  541.928222"
      ]
     },
     "execution_count": 9,
     "metadata": {},
     "output_type": "execute_result"
    }
   ],
   "source": [
    "data1 = pd.DataFrame({'Actual': y_test.flatten(), 'Predicted' : predicted.flatten()})\n",
    "data1.head(20)"
   ]
  },
  {
   "cell_type": "markdown",
   "id": "725d7f7f",
   "metadata": {},
   "source": [
    "# Validating the Fit"
   ]
  },
  {
   "cell_type": "code",
   "execution_count": 10,
   "id": "ad3cde5f",
   "metadata": {},
   "outputs": [
    {
     "name": "stdout",
     "output_type": "stream",
     "text": [
      "Mean Absolute Error: 2.72626488216208\n",
      "Mean Squared Error: 14.706214844420286\n",
      "Root Mean Squared Error: 3.8348682955768227\n"
     ]
    }
   ],
   "source": [
    "import math\n",
    "print('Mean Absolute Error:', metrics.mean_absolute_error(y_test,predicted))\n",
    "print('Mean Squared Error:', metrics.mean_squared_error(y_test,predicted))\n",
    "print('Root Mean Squared Error:', math.sqrt(metrics.mean_squared_error(y_test,predicted)))"
   ]
  },
  {
   "cell_type": "code",
   "execution_count": 11,
   "id": "84870bb6",
   "metadata": {},
   "outputs": [
    {
     "data": {
      "text/plain": [
       "<AxesSubplot:>"
      ]
     },
     "execution_count": 11,
     "metadata": {},
     "output_type": "execute_result"
    },
    {
     "data": {
      "image/png": "[encoded data removed]",
      "text/plain": [
       "<Figure size 432x288 with 1 Axes>"
      ]
     },
     "metadata": {
      "needs_background": "light"
     },
     "output_type": "display_data"
    }
   ],
   "source": [
    "graph = data1.head(20)\n",
    "graph.plot(kind='bar')"
   ]
  },
  {
   "cell_type": "code",
   "execution_count": null,
   "id": "4fc129a4",
   "metadata": {},
   "outputs": [],
   "source": []
  }
 ],
 "metadata": {
  "kernelspec": {
   "display_name": "Python 3 (ipykernel)",
   "language": "python",
   "name": "python3"
  },
  "language_info": {
   "codemirror_mode": {
    "name": "ipython",
    "version": 3
   },
   "file_extension": ".py",
   "mimetype": "text/x-python",
   "name": "python",
   "nbconvert_exporter": "python",
   "pygments_lexer": "ipython3",
   "version": "3.9.12"
  }
 },
 "nbformat": 4,
 "nbformat_minor": 5
}
